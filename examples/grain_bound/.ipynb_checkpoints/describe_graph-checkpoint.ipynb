{
 "cells": [
  {
   "cell_type": "code",
   "execution_count": 2,
   "metadata": {
    "collapsed": true
   },
   "outputs": [],
   "source": [
    "import numpy as np\n",
    "import cPickle as pickle\n",
    "import matplotlib.pyplot as plt\n",
    "%matplotlib inline"
   ]
  },
  {
   "cell_type": "code",
   "execution_count": 33,
   "metadata": {
    "collapsed": true
   },
   "outputs": [],
   "source": [
    "A = np.asarray(np.loadtxt('s5-210.csv',skiprows=1,delimiter=','))\n",
    "X = A[:,0:3]\n",
    "t = A[:,3]"
   ]
  },
  {
   "cell_type": "code",
   "execution_count": 13,
   "metadata": {
    "collapsed": false
   },
   "outputs": [],
   "source": [
    "\n",
    "gp_ei_fmax = np.zeros((30,300))\n",
    "\n",
    "for n in xrange(30):\n",
    "    file_name = 'GP_EI/bayes_search_%03d.dump' %(n)\n",
    "    with open(file_name,'r') as f:\n",
    "        res=pickle.load(f)\n",
    "    gp_ei_fmax[n,:] = res.max_fx"
   ]
  },
  {
   "cell_type": "code",
   "execution_count": 14,
   "metadata": {
    "collapsed": true
   },
   "outputs": [],
   "source": [
    "blm_ei_fmax = np.zeros((30,300))\n",
    "\n",
    "for n in xrange(30):\n",
    "    file_name = 'BLM_EI/bayes_search_%03d.dump' %(n)\n",
    "    with open(file_name,'r') as f:\n",
    "        res=pickle.load(f)\n",
    "    blm_ei_fmax[n,:] = res.max_fx"
   ]
  },
  {
   "cell_type": "code",
   "execution_count": 15,
   "metadata": {
    "collapsed": true
   },
   "outputs": [],
   "source": [
    "blm_ts_fmax = np.zeros((30,300))\n",
    "\n",
    "for n in xrange(30):\n",
    "    file_name = 'BLM_TS/bayes_search_%03d.dump' %(n)\n",
    "    with open(file_name,'r') as f:\n",
    "        res=pickle.load(f)\n",
    "    blm_ts_fmax[n,:] = res.max_fx"
   ]
  },
  {
   "cell_type": "code",
   "execution_count": 26,
   "metadata": {
    "collapsed": false
   },
   "outputs": [],
   "source": [
    "rand_fmax = np.zeros((30,300))\n",
    "\n",
    "for n in xrange(30):\n",
    "    file_name = 'random/random_search_%03d.dump' %(n)\n",
    "    with open(file_name,'r') as f:\n",
    "        res=pickle.load(f)\n",
    "        rand_fmax[n,:] = res.max_fx"
   ]
  },
  {
   "cell_type": "code",
   "execution_count": 39,
   "metadata": {
    "collapsed": false,
    "scrolled": true
   },
   "outputs": [
    {
     "data": {
      "image/png": "[encoded data removed]",
      "text/plain": [
       "<matplotlib.figure.Figure at 0x1148e6b10>"
      ]
     },
     "metadata": {},
     "output_type": "display_data"
    }
   ],
   "source": [
    "x=np.arange(0,300)\n",
    "y=np.ones(300) * np.min(t)\n",
    "plt.plot(-np.mean(gp_ei_fmax,0))\n",
    "plt.plot(-np.mean(blm_ei_fmax,0))\n",
    "plt.plot(-np.mean(blm_ts_fmax,0))\n",
    "plt.plot(-np.mean(rand_fmax,0))\n",
    "plt.ylim((0.955, 0.98))\n",
    "plt.plot(x,y,'k--')\n",
    "#plt.legend()\n",
    "plt.grid()"
   ]
  },
  {
   "cell_type": "code",
   "execution_count": 43,
   "metadata": {
    "collapsed": false
   },
   "outputs": [],
   "source": [
    "sort_t = np.sort(t)"
   ]
  },
  {
   "cell_type": "code",
   "execution_count": 46,
   "metadata": {
    "collapsed": false
   },
   "outputs": [],
   "source": [
    "topk = xrange(10,100,10)"
   ]
  },
  {
   "cell_type": "code",
   "execution_count": null,
   "metadata": {
    "collapsed": true
   },
   "outputs": [],
   "source": [
    "for topk in xrange(10,100,10):\n",
    "    topk_t = sort[topk]\n",
    "            \n",
    "    for n in xrange(0,100,10):\n",
    "        gp_EI = "
   ]
  }
 ],
 "metadata": {
  "kernelspec": {
   "display_name": "Python 2",
   "language": "python",
   "name": "python2"
  },
  "language_info": {
   "codemirror_mode": {
    "name": "ipython",
    "version": 2
   },
   "file_extension": ".py",
   "mimetype": "text/x-python",
   "name": "python",
   "nbconvert_exporter": "python",
   "pygments_lexer": "ipython2",
   "version": "2.7.10"
  }
 },
 "nbformat": 4,
 "nbformat_minor": 0
}
