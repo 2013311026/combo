{
 "cells": [
  {
   "cell_type": "code",
   "execution_count": 1,
   "metadata": {
    "collapsed": false
   },
   "outputs": [],
   "source": [
    "import numpy as np\n",
    "import cPickle as pickle\n",
    "import scipy\n",
    "import combo\n",
    "import os\n",
    "import urllib\n",
    "import matplotlib.pyplot as plt\n",
    "%matplotlib inline"
   ]
  },
  {
   "cell_type": "code",
   "execution_count": 2,
   "metadata": {
    "collapsed": true
   },
   "outputs": [],
   "source": [
    "def download():\n",
    "    if not os.path.exists('data/s5-210.csv'):\n",
    "\n",
    "        if not os.path.exists('data'):\n",
    "            os.mkdir('data')\n",
    "            \n",
    "        print('Downloading...')\n",
    "        urllib.urlretrieve('http://www.tsudalab.org/files/s5-210.csv', 'data/s5-210.csv')\n",
    "        print('Done')"
   ]
  },
  {
   "cell_type": "code",
   "execution_count": 3,
   "metadata": {
    "collapsed": true
   },
   "outputs": [],
   "source": [
    "def load_data():\n",
    "    download()\n",
    "    A =  np.asarray( np.loadtxt('data/s5-210.csv',skiprows=1,delimiter=',') )\n",
    "    X = A[:,0:3]\n",
    "    t  = -A[:,3]\n",
    "    return X, t"
   ]
  },
  {
   "cell_type": "code",
   "execution_count": 4,
   "metadata": {
    "collapsed": false
   },
   "outputs": [],
   "source": [
    "# Load the data. \n",
    "# X is the N x d dimensional matrix. Each row of X denotes the d-dimensional feature vector of search candidate. \n",
    "# t is the N-dimensional vector that represents the corresponding negative energy of search candidates. \n",
    "# ( It is of course unknown in practice. )\n",
    "X, t = load_data()\n",
    " \n",
    "# Normalize the mean and standard deviation along the each column of X to 0 and 1, respectively\n",
    "X = combo.misc.centering( X )"
   ]
  },
  {
   "cell_type": "code",
   "execution_count": 5,
   "metadata": {
    "collapsed": false
   },
   "outputs": [],
   "source": [
    "# Declare the class for calling the simulator. \n",
    "# In this tutorial, we simply refer to the value of t. \n",
    "# If you want to apply combo to other problems, you have to customize this class. \n",
    "class simulator:\n",
    "    def __init__( self ):\n",
    "        _, self.t = load_data()\n",
    "    \n",
    "    def __call__( self, action ):\n",
    "        return self.t[action]"
   ]
  },
  {
   "cell_type": "code",
   "execution_count": 6,
   "metadata": {
    "collapsed": false
   },
   "outputs": [],
   "source": [
    "# Define the generative model of GPs. \n",
    "# In Combo, to use the GP inference, we have to define three elements: \n",
    "# kernel, mean of GP prior and likelihood. \n",
    "\n",
    "## Define the kernel \n",
    "## The ordinary Gaussian kernel is defined by \n",
    "cov = combo.gp.cov.gauss( X.shape[1], ard = False )\n",
    "\n",
    "## If you want to use the Gaussian ARD kernel, set 'ard' to 'True'\n",
    "## cov = combo.gp.cov.gauss(X.shape[1], ard = True )\n",
    "\n",
    "## Define the mean of GP prior\n",
    "## To employ the constant value as the mean of GP prior, write as below: \n",
    "mean = combo.gp.mean.const()\n",
    "## Also, define the zero mean, i.e., always takes zero as \n",
    "# mean = combo.gp.mean.zero()\n",
    "\n",
    "## Define the likelihood \n",
    "## define isotoropic Gaussian likelihood as bellow:\n",
    "lik = combo.gp.lik.gauss()\n",
    "\n",
    "# Finally, declare the generative model of Gaussian process as \n",
    "gp = combo.gp.model(lik=lik, mean = mean, cov = cov)"
   ]
  },
  {
   "cell_type": "code",
   "execution_count": null,
   "metadata": {
    "collapsed": false
   },
   "outputs": [
    {
     "name": "stdout",
     "output_type": "stream",
     "text": [
      "( search )\n",
      "dir_name: res\n",
      "score: TS\n",
      "max_search: 100\n",
      "num_rand_search:  20\n",
      "alpha:  1.0\n",
      "\n",
      "\n",
      "( predict )\n",
      "is_rand_expans:  True\n",
      "num_basis:  5000\n",
      "\n",
      "\n",
      "( learning )\n",
      "method :  adam\n",
      "is_hyparams_learning:  True\n",
      "is_disp:  False\n",
      "num_init_params_search:  20\n",
      "interval:  20\n",
      "max_epoch:  2000\n",
      "max_epoch_init_params_search:  20\n",
      "batch_size:  64\n",
      "eval_size:  5000\n",
      "alpha =  0.001\n",
      "beta =  0.9\n",
      "gamma =  0.999\n",
      "epsilon =  1e-06\n",
      "\n",
      "\n"
     ]
    }
   ],
   "source": [
    "# set the configure for COMBO\n",
    "# To modify the configure of COMBO,  you have to edit the configure files. \n",
    "# Please check 'config.ini' if you want to know how to write the configure file\n",
    "# loading the configure files, write as follows:\n",
    "config = combo.misc.set_config()\n",
    "config.load('config.ini')\n",
    "config.show()"
   ]
  },
  {
   "cell_type": "code",
   "execution_count": null,
   "metadata": {
    "collapsed": false
   },
   "outputs": [],
   "source": [
    "# design of policy\n",
    "\n",
    "# Declaring the bayesian policy is performed by \n",
    "search = combo.search.bayes_policy( simulator(), X, config)\n",
    "\n",
    "# if you want to use the random policy as baseline, define in the same manner: \n",
    "#search = combo.search.random_policy(simulator(), X, config)\n",
    "\n",
    "# set the seed parameter \n",
    "search.set_seed( 0 )\n",
    "\n",
    "# Execute the bayes search.  \n",
    "# The file_name determines the name of output file which is generated after the search process. \n",
    "# If not defining, the file_name automatically become 'bayes_search_00x.dump', where x is the seed.  \n",
    "search.run( gp, file_name='TS' )\n",
    "\n",
    "# If you already have the training data ( train_X, train_t ), you can use it \n",
    "# search.run( gp , train_X = train_X, train_t = train_t )"
   ]
  },
  {
   "cell_type": "code",
   "execution_count": null,
   "metadata": {
    "collapsed": false
   },
   "outputs": [],
   "source": [
    "# The result of searching is summarized in the class search.res\n",
    "# res.fx: observed negative energy at each step\n",
    "# res.max_fx: the current maximum value of the negative energy that has been obserbed until each step\n",
    "# res.config: the configure files when search was performed\n",
    "plt.plot(search.res.max_fx)"
   ]
  },
  {
   "cell_type": "code",
   "execution_count": null,
   "metadata": {
    "collapsed": false
   },
   "outputs": [],
   "source": [
    "# load \n",
    "with open('res/TS.dump') as f:\n",
    "        res =pickle.load(f)"
   ]
  },
  {
   "cell_type": "code",
   "execution_count": null,
   "metadata": {
    "collapsed": false
   },
   "outputs": [],
   "source": [
    "print res.fx\n",
    "print res.max_fx"
   ]
  },
  {
   "cell_type": "code",
   "execution_count": null,
   "metadata": {
    "collapsed": true
   },
   "outputs": [],
   "source": []
  }
 ],
 "metadata": {
  "kernelspec": {
   "display_name": "Python 2",
   "language": "python",
   "name": "python2"
  },
  "language_info": {
   "codemirror_mode": {
    "name": "ipython",
    "version": 2
   },
   "file_extension": ".py",
   "mimetype": "text/x-python",
   "name": "python",
   "nbconvert_exporter": "python",
   "pygments_lexer": "ipython2",
   "version": "2.7.10"
  }
 },
 "nbformat": 4,
 "nbformat_minor": 0
}
