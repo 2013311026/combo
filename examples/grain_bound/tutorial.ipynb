{
 "cells": [
  {
   "cell_type": "code",
   "execution_count": 1,
   "metadata": {
    "collapsed": false
   },
   "outputs": [],
   "source": [
    "import numpy as np\n",
    "import cPickle as pickle\n",
    "import scipy\n",
    "import combo\n",
    "import os\n",
    "import urllib\n",
    "import matplotlib.pyplot as plt\n",
    "%matplotlib inline"
   ]
  },
  {
   "cell_type": "code",
   "execution_count": 2,
   "metadata": {
    "collapsed": true
   },
   "outputs": [],
   "source": [
    "def download():\n",
    "    if not os.path.exists('data/s5-210.csv'):\n",
    "\n",
    "        if not os.path.exists('data'):\n",
    "            os.mkdir('data')\n",
    "            \n",
    "        print('Downloading...')\n",
    "        urllib.urlretrieve('http://www.tsudalab.org/files/s5-210.csv', 'data/s5-210.csv')\n",
    "        print('Done')"
   ]
  },
  {
   "cell_type": "code",
   "execution_count": 3,
   "metadata": {
    "collapsed": true
   },
   "outputs": [],
   "source": [
    "def load_data():\n",
    "    download()\n",
    "    A =  np.asarray( np.loadtxt('data/s5-210.csv',skiprows=1,delimiter=',') )\n",
    "    X = A[:,0:3]\n",
    "    t  = -A[:,3]\n",
    "    return X, t"
   ]
  },
  {
   "cell_type": "code",
   "execution_count": 4,
   "metadata": {
    "collapsed": false
   },
   "outputs": [],
   "source": [
    "# Load the data. \n",
    "# X is the N x d dimensional matrix. Each row of X denotes the d-dimensional feature vector of search candidate. \n",
    "# t is the N-dimensional vector that represents the corresponding negative energy of search candidates. \n",
    "# ( It is of course unknown in practice. )\n",
    "X, t = load_data()\n",
    " \n",
    "# Normalize the mean and standard deviation along the each column of X to 0 and 1, respectively\n",
    "X = combo.misc.centering( X )"
   ]
  },
  {
   "cell_type": "code",
   "execution_count": 5,
   "metadata": {
    "collapsed": false
   },
   "outputs": [],
   "source": [
    "# Declare the class for calling the simulator. \n",
    "# In this tutorial, we simply refer to the value of t. \n",
    "# If you want to apply combo to other problems, you have to customize this class. \n",
    "class simulator:\n",
    "    def __init__( self ):\n",
    "        _, self.t = load_data()\n",
    "    \n",
    "    def __call__( self, action ):\n",
    "        return self.t[action]"
   ]
  },
  {
   "cell_type": "code",
   "execution_count": 6,
   "metadata": {
    "collapsed": false
   },
   "outputs": [],
   "source": [
    "# Define the generative model of GPs. \n",
    "# In Combo, to use the GP inference, we have to define three elements: \n",
    "# kernel, mean of GP prior and likelihood. \n",
    "\n",
    "## Define the kernel \n",
    "## The ordinary Gaussian kernel is defined by \n",
    "cov = combo.gp.cov.gauss( X.shape[1], ard = False )\n",
    "\n",
    "## If you want to use the Gaussian ARD kernel, set 'ard' to 'True'\n",
    "## cov = combo.gp.cov.gauss(X.shape[1], ard = True )\n",
    "\n",
    "## Define the mean of GP prior\n",
    "## To employ the constant value as the mean of GP prior, write as below: \n",
    "mean = combo.gp.mean.const()\n",
    "## Also, define the zero mean, i.e., always takes zero as \n",
    "# mean = combo.gp.mean.zero()\n",
    "\n",
    "## Define the likelihood \n",
    "## define isotoropic Gaussian likelihood as bellow:\n",
    "lik = combo.gp.lik.gauss()\n",
    "\n",
    "# Finally, declare the generative model of Gaussian process as \n",
    "gp = combo.gp.model(lik=lik, mean = mean, cov = cov)"
   ]
  },
  {
   "cell_type": "code",
   "execution_count": 7,
   "metadata": {
    "collapsed": false
   },
   "outputs": [
    {
     "name": "stdout",
     "output_type": "stream",
     "text": [
      "( search )\n",
      "dir_name: res\n",
      "score: TS\n",
      "max_search: 100\n",
      "num_rand_search:  20\n",
      "alpha:  0.5\n",
      "\n",
      "\n",
      "( predict )\n",
      "is_rand_expans:  True\n",
      "num_basis:  5000\n",
      "\n",
      "\n",
      "( learning )\n",
      "method :  adam\n",
      "is_hyparams_learning:  True\n",
      "is_disp:  False\n",
      "num_init_params_search:  20\n",
      "interval:  20\n",
      "max_epoch:  2000\n",
      "max_epoch_init_params_search:  20\n",
      "batch_size:  64\n",
      "eval_size:  5000\n",
      "alpha =  0.001\n",
      "beta =  0.9\n",
      "gamma =  0.999\n",
      "epsilon =  1e-06\n",
      "\n",
      "\n"
     ]
    }
   ],
   "source": [
    "# set the configure for COMBO\n",
    "# To modify the configure of COMBO,  you have to edit the configure files. \n",
    "# Please check 'config.ini' if you want to know how to write the configure file\n",
    "# loading the configure files, write as follows:\n",
    "config = combo.misc.set_config()\n",
    "config.load('config.ini')\n",
    "config.show()"
   ]
  },
  {
   "cell_type": "code",
   "execution_count": 8,
   "metadata": {
    "collapsed": false
   },
   "outputs": [
    {
     "name": "stdout",
     "output_type": "stream",
     "text": [
      "Start the random search .....\n",
      "\n",
      "001-th step: f(x) = -1.037109, max_f(x) = -1.037109 \n",
      "\n",
      "002-th step: f(x) = -1.040397, max_f(x) = -1.037109 \n",
      "\n",
      "003-th step: f(x) = -0.995182, max_f(x) = -0.995182 \n",
      "\n",
      "004-th step: f(x) = -1.120972, max_f(x) = -0.995182 \n",
      "\n",
      "005-th step: f(x) = -1.092801, max_f(x) = -0.995182 \n",
      "\n",
      "006-th step: f(x) = -1.104426, max_f(x) = -0.995182 \n",
      "\n",
      "007-th step: f(x) = -1.082187, max_f(x) = -0.995182 \n",
      "\n",
      "008-th step: f(x) = -1.145944, max_f(x) = -0.995182 \n",
      "\n",
      "009-th step: f(x) = -1.069718, max_f(x) = -0.995182 \n",
      "\n",
      "010-th step: f(x) = -1.046275, max_f(x) = -0.995182 \n",
      "\n",
      "011-th step: f(x) = -1.035465, max_f(x) = -0.995182 \n",
      "\n",
      "012-th step: f(x) = -1.095248, max_f(x) = -0.995182 \n",
      "\n",
      "013-th step: f(x) = -1.188696, max_f(x) = -0.995182 \n",
      "\n",
      "014-th step: f(x) = -1.055151, max_f(x) = -0.995182 \n",
      "\n",
      "015-th step: f(x) = -1.122468, max_f(x) = -0.995182 \n",
      "\n",
      "016-th step: f(x) = -0.966407, max_f(x) = -0.966407 \n",
      "\n",
      "017-th step: f(x) = -1.013328, max_f(x) = -0.966407 \n",
      "\n",
      "018-th step: f(x) = -1.137878, max_f(x) = -0.966407 \n",
      "\n",
      "019-th step: f(x) = -1.004440, max_f(x) = -0.966407 \n",
      "\n",
      "020-th step: f(x) = -1.021882, max_f(x) = -0.966407 \n",
      "\n",
      "Done.\n",
      " \n",
      "Start the bayes search ....\n",
      "\n",
      "Start the initial hyper parameter searching ...\n",
      "Done\n",
      "\n",
      "Start the hyper parameter learning ...\n",
      "Done\n",
      "\n",
      "0.5\n",
      "021-th step: f(x) = -0.968066, max_f(x) = -0.966407 \n",
      "\n",
      "0.5\n",
      "022-th step: f(x) = -1.045790, max_f(x) = -0.966407 \n",
      "\n",
      "0.5\n",
      "023-th step: f(x) = -1.023574, max_f(x) = -0.966407 \n",
      "\n",
      "0.5\n",
      "024-th step: f(x) = -0.964860, max_f(x) = -0.964860 \n",
      "\n",
      "0.5\n",
      "025-th step: f(x) = -0.961672, max_f(x) = -0.961672 \n",
      "\n",
      "0.5\n",
      "026-th step: f(x) = -0.969673, max_f(x) = -0.961672 \n",
      "\n",
      "0.5\n",
      "027-th step: f(x) = -0.959822, max_f(x) = -0.959822 \n",
      "\n",
      "0.5\n",
      "028-th step: f(x) = -1.069538, max_f(x) = -0.959822 \n",
      "\n",
      "0.5\n",
      "029-th step: f(x) = -0.963273, max_f(x) = -0.959822 \n",
      "\n",
      "0.5\n",
      "030-th step: f(x) = -0.976372, max_f(x) = -0.959822 \n",
      "\n",
      "0.5\n",
      "031-th step: f(x) = -1.007896, max_f(x) = -0.959822 \n",
      "\n",
      "0.5\n",
      "032-th step: f(x) = -0.960091, max_f(x) = -0.959822 \n",
      "\n",
      "0.5\n",
      "033-th step: f(x) = -0.958246, max_f(x) = -0.958246 \n",
      "\n",
      "0.5\n",
      "034-th step: f(x) = -0.959066, max_f(x) = -0.958246 \n",
      "\n",
      "0.5\n",
      "035-th step: f(x) = -0.978995, max_f(x) = -0.958246 \n",
      "\n",
      "0.5\n",
      "036-th step: f(x) = -0.957479, max_f(x) = -0.957479 \n",
      "\n",
      "0.5\n",
      "037-th step: f(x) = -0.969332, max_f(x) = -0.957479 \n",
      "\n",
      "0.5\n",
      "038-th step: f(x) = -0.980823, max_f(x) = -0.957479 \n",
      "\n",
      "0.5\n",
      "039-th step: f(x) = -1.010516, max_f(x) = -0.957479 \n",
      "\n",
      "0.5\n",
      "040-th step: f(x) = -0.959260, max_f(x) = -0.957479 \n",
      "\n",
      "0.5\n",
      "041-th step: f(x) = -0.958843, max_f(x) = -0.957479 \n",
      "\n",
      "Start the initial hyper parameter searching ...\n",
      "Done\n",
      "\n",
      "Start the hyper parameter learning ...\n"
     ]
    },
    {
     "ename": "KeyboardInterrupt",
     "evalue": "",
     "output_type": "error",
     "traceback": [
      "\u001b[0;31m---------------------------------------------------------------------------\u001b[0m",
      "\u001b[0;31mKeyboardInterrupt\u001b[0m                         Traceback (most recent call last)",
      "\u001b[0;32m<ipython-input-8-fef69ee24966>\u001b[0m in \u001b[0;36m<module>\u001b[0;34m()\u001b[0m\n\u001b[1;32m     13\u001b[0m \u001b[0;31m# The file_name determines the name of output file which is generated after the search process.\u001b[0m\u001b[0;34m\u001b[0m\u001b[0;34m\u001b[0m\u001b[0m\n\u001b[1;32m     14\u001b[0m \u001b[0;31m# If not defining, the file_name automatically become 'bayes_search_00x.dump', where x is the seed.\u001b[0m\u001b[0;34m\u001b[0m\u001b[0;34m\u001b[0m\u001b[0m\n\u001b[0;32m---> 15\u001b[0;31m \u001b[0msearch\u001b[0m\u001b[0;34m.\u001b[0m\u001b[0mrun\u001b[0m\u001b[0;34m(\u001b[0m \u001b[0mgp\u001b[0m\u001b[0;34m,\u001b[0m \u001b[0mfile_name\u001b[0m\u001b[0;34m=\u001b[0m\u001b[0;34m'TS'\u001b[0m \u001b[0;34m)\u001b[0m\u001b[0;34m\u001b[0m\u001b[0m\n\u001b[0m\u001b[1;32m     16\u001b[0m \u001b[0;34m\u001b[0m\u001b[0m\n\u001b[1;32m     17\u001b[0m \u001b[0;31m# If you already have the training data ( train_X, train_t ), you can use it\u001b[0m\u001b[0;34m\u001b[0m\u001b[0;34m\u001b[0m\u001b[0m\n",
      "\u001b[0;32m/Users/tsuyos-u/.pyenv/versions/2.7.10/lib/python2.7/site-packages/combo/search/bayes_policy.pyc\u001b[0m in \u001b[0;36mrun\u001b[0;34m(self, gp, timing, train_X, train_t, file_name)\u001b[0m\n\u001b[1;32m     15\u001b[0m         \u001b[0;32mprint\u001b[0m \u001b[0;34m'Start the bayes search ....\\n'\u001b[0m\u001b[0;34m\u001b[0m\u001b[0m\n\u001b[1;32m     16\u001b[0m         \u001b[0;32mif\u001b[0m \u001b[0mself\u001b[0m\u001b[0;34m.\u001b[0m\u001b[0mconfig\u001b[0m\u001b[0;34m.\u001b[0m\u001b[0mpredict\u001b[0m\u001b[0;34m.\u001b[0m\u001b[0mis_rand_expans\u001b[0m\u001b[0;34m:\u001b[0m\u001b[0;34m\u001b[0m\u001b[0m\n\u001b[0;32m---> 17\u001b[0;31m             \u001b[0mself\u001b[0m\u001b[0;34m.\u001b[0m\u001b[0mblm_search\u001b[0m\u001b[0;34m(\u001b[0m \u001b[0mgp\u001b[0m\u001b[0;34m,\u001b[0m \u001b[0mtiming\u001b[0m \u001b[0;34m)\u001b[0m\u001b[0;34m\u001b[0m\u001b[0m\n\u001b[0m\u001b[1;32m     18\u001b[0m         \u001b[0;32melse\u001b[0m\u001b[0;34m:\u001b[0m\u001b[0;34m\u001b[0m\u001b[0m\n\u001b[1;32m     19\u001b[0m             \u001b[0mself\u001b[0m\u001b[0;34m.\u001b[0m\u001b[0mgp_search\u001b[0m\u001b[0;34m(\u001b[0m  \u001b[0mgp\u001b[0m\u001b[0;34m,\u001b[0m \u001b[0mtiming\u001b[0m \u001b[0;34m)\u001b[0m\u001b[0;34m\u001b[0m\u001b[0m\n",
      "\u001b[0;32m/Users/tsuyos-u/.pyenv/versions/2.7.10/lib/python2.7/site-packages/combo/search/bayes_policy.pyc\u001b[0m in \u001b[0;36mblm_search\u001b[0;34m(self, gp, timing)\u001b[0m\n\u001b[1;32m     81\u001b[0m             \u001b[0;32mif\u001b[0m \u001b[0mself\u001b[0m\u001b[0;34m.\u001b[0m\u001b[0mconfig\u001b[0m\u001b[0;34m.\u001b[0m\u001b[0mlearning\u001b[0m\u001b[0;34m.\u001b[0m\u001b[0mis_hyparams_learning\u001b[0m \u001b[0;32mand\u001b[0m \u001b[0mnum_temp\u001b[0m \u001b[0;34m<\u001b[0m \u001b[0mlen\u001b[0m\u001b[0;34m(\u001b[0m\u001b[0mtiming\u001b[0m\u001b[0;34m)\u001b[0m \u001b[0;32mand\u001b[0m \u001b[0mn\u001b[0m \u001b[0;34m==\u001b[0m \u001b[0mtiming\u001b[0m\u001b[0;34m[\u001b[0m\u001b[0mnum_temp\u001b[0m\u001b[0;34m]\u001b[0m\u001b[0;34m:\u001b[0m\u001b[0;34m\u001b[0m\u001b[0m\n\u001b[1;32m     82\u001b[0m                 \u001b[0mst_learn_time\u001b[0m \u001b[0;34m=\u001b[0m \u001b[0mtime\u001b[0m\u001b[0;34m.\u001b[0m\u001b[0mtime\u001b[0m\u001b[0;34m(\u001b[0m\u001b[0;34m)\u001b[0m\u001b[0;34m\u001b[0m\u001b[0m\n\u001b[0;32m---> 83\u001b[0;31m                 \u001b[0mgp\u001b[0m\u001b[0;34m.\u001b[0m\u001b[0mfit\u001b[0m\u001b[0;34m(\u001b[0m \u001b[0mself\u001b[0m\u001b[0;34m.\u001b[0m\u001b[0mtrain_X\u001b[0m\u001b[0;34m,\u001b[0m \u001b[0mself\u001b[0m\u001b[0;34m.\u001b[0m\u001b[0mtrain_t\u001b[0m\u001b[0;34m,\u001b[0m \u001b[0mself\u001b[0m\u001b[0;34m.\u001b[0m\u001b[0mconfig\u001b[0m\u001b[0;34m)\u001b[0m\u001b[0;34m\u001b[0m\u001b[0m\n\u001b[0m\u001b[1;32m     84\u001b[0m                 \u001b[0mself\u001b[0m\u001b[0;34m.\u001b[0m\u001b[0mres\u001b[0m\u001b[0;34m.\u001b[0m\u001b[0mlearning_time\u001b[0m\u001b[0;34m[\u001b[0m\u001b[0mn\u001b[0m\u001b[0;34m]\u001b[0m \u001b[0;34m=\u001b[0m \u001b[0mtime\u001b[0m\u001b[0;34m.\u001b[0m\u001b[0mtime\u001b[0m\u001b[0;34m(\u001b[0m\u001b[0;34m)\u001b[0m \u001b[0;34m-\u001b[0m \u001b[0mst_learn_time\u001b[0m\u001b[0;34m\u001b[0m\u001b[0m\n\u001b[1;32m     85\u001b[0m \u001b[0;34m\u001b[0m\u001b[0m\n",
      "\u001b[0;32m/Users/tsuyos-u/.pyenv/versions/2.7.10/lib/python2.7/site-packages/combo/gp/core/model.pyc\u001b[0m in \u001b[0;36mfit\u001b[0;34m(self, X, t, config)\u001b[0m\n\u001b[1;32m    151\u001b[0m         \u001b[0;32mif\u001b[0m \u001b[0mmethod\u001b[0m \u001b[0;34m==\u001b[0m \u001b[0;34m'adam'\u001b[0m\u001b[0;34m:\u001b[0m\u001b[0;34m\u001b[0m\u001b[0m\n\u001b[1;32m    152\u001b[0m             \u001b[0madam\u001b[0m \u001b[0;34m=\u001b[0m \u001b[0mlearning\u001b[0m\u001b[0;34m.\u001b[0m\u001b[0madam\u001b[0m\u001b[0;34m(\u001b[0m \u001b[0mself\u001b[0m\u001b[0;34m,\u001b[0m \u001b[0mconfig\u001b[0m\u001b[0;34m)\u001b[0m\u001b[0;34m\u001b[0m\u001b[0m\n\u001b[0;32m--> 153\u001b[0;31m             \u001b[0mparams\u001b[0m \u001b[0;34m=\u001b[0m \u001b[0madam\u001b[0m\u001b[0;34m.\u001b[0m\u001b[0mrun\u001b[0m\u001b[0;34m(\u001b[0m \u001b[0mX\u001b[0m\u001b[0;34m,\u001b[0m \u001b[0mt\u001b[0m \u001b[0;34m)\u001b[0m\u001b[0;34m\u001b[0m\u001b[0m\n\u001b[0m\u001b[1;32m    154\u001b[0m \u001b[0;34m\u001b[0m\u001b[0m\n\u001b[1;32m    155\u001b[0m         \u001b[0;32mif\u001b[0m \u001b[0mmethod\u001b[0m \u001b[0;32min\u001b[0m \u001b[0;34m(\u001b[0m\u001b[0;34m'bfgs'\u001b[0m\u001b[0;34m,\u001b[0m \u001b[0;34m'batch'\u001b[0m \u001b[0;34m)\u001b[0m\u001b[0;34m:\u001b[0m\u001b[0;34m\u001b[0m\u001b[0m\n",
      "\u001b[0;32m/Users/tsuyos-u/.pyenv/versions/2.7.10/lib/python2.7/site-packages/combo/gp/core/learning.pyc\u001b[0m in \u001b[0;36mrun\u001b[0;34m(self, X, t)\u001b[0m\n\u001b[1;32m     83\u001b[0m \u001b[0;34m\u001b[0m\u001b[0m\n\u001b[1;32m     84\u001b[0m         \u001b[0;32mprint\u001b[0m \u001b[0;34m'Start the hyper parameter learning ...'\u001b[0m\u001b[0;34m\u001b[0m\u001b[0m\n\u001b[0;32m---> 85\u001b[0;31m         \u001b[0mparams\u001b[0m \u001b[0;34m=\u001b[0m \u001b[0mself\u001b[0m\u001b[0;34m.\u001b[0m\u001b[0mone_run\u001b[0m\u001b[0;34m(\u001b[0m \u001b[0mparams\u001b[0m\u001b[0;34m,\u001b[0m \u001b[0mX\u001b[0m\u001b[0;34m,\u001b[0m \u001b[0mt\u001b[0m \u001b[0;34m)\u001b[0m\u001b[0;34m\u001b[0m\u001b[0m\n\u001b[0m\u001b[1;32m     86\u001b[0m         \u001b[0;32mprint\u001b[0m \u001b[0;34m'Done\\n'\u001b[0m\u001b[0;34m\u001b[0m\u001b[0m\n\u001b[1;32m     87\u001b[0m \u001b[0;34m\u001b[0m\u001b[0m\n",
      "\u001b[0;32m/Users/tsuyos-u/.pyenv/versions/2.7.10/lib/python2.7/site-packages/combo/gp/core/learning.pyc\u001b[0m in \u001b[0;36mone_run\u001b[0;34m(self, params, X, t, max_epoch)\u001b[0m\n\u001b[1;32m    119\u001b[0m                     \u001b[0msubX\u001b[0m \u001b[0;34m=\u001b[0m \u001b[0mX\u001b[0m\u001b[0;34m[\u001b[0m\u001b[0mtmp_index\u001b[0m\u001b[0;34m,\u001b[0m\u001b[0;34m:\u001b[0m\u001b[0;34m]\u001b[0m\u001b[0;34m\u001b[0m\u001b[0m\n\u001b[1;32m    120\u001b[0m                     \u001b[0msubt\u001b[0m \u001b[0;34m=\u001b[0m \u001b[0mt\u001b[0m\u001b[0;34m[\u001b[0m\u001b[0mtmp_index\u001b[0m\u001b[0;34m]\u001b[0m\u001b[0;34m\u001b[0m\u001b[0m\n\u001b[0;32m--> 121\u001b[0;31m                     \u001b[0mparams\u001b[0m \u001b[0;34m+=\u001b[0m \u001b[0mself\u001b[0m\u001b[0;34m.\u001b[0m\u001b[0mget_one_update\u001b[0m\u001b[0;34m(\u001b[0m \u001b[0mparams\u001b[0m\u001b[0;34m,\u001b[0m \u001b[0msubX\u001b[0m\u001b[0;34m,\u001b[0m \u001b[0msubt\u001b[0m \u001b[0;34m)\u001b[0m\u001b[0;34m\u001b[0m\u001b[0m\n\u001b[0m\u001b[1;32m    122\u001b[0m \u001b[0;34m\u001b[0m\u001b[0m\n\u001b[1;32m    123\u001b[0m         \u001b[0;32mif\u001b[0m \u001b[0mis_disp\u001b[0m\u001b[0;34m:\u001b[0m\u001b[0;34m\u001b[0m\u001b[0m\n",
      "\u001b[0;32m/Users/tsuyos-u/.pyenv/versions/2.7.10/lib/python2.7/site-packages/combo/gp/core/learning.pyc\u001b[0m in \u001b[0;36mget_one_update\u001b[0;34m(self, params, X, t)\u001b[0m\n\u001b[1;32m    181\u001b[0m \u001b[0;34m\u001b[0m\u001b[0m\n\u001b[1;32m    182\u001b[0m     \u001b[0;32mdef\u001b[0m \u001b[0mget_one_update\u001b[0m\u001b[0;34m(\u001b[0m \u001b[0mself\u001b[0m\u001b[0;34m,\u001b[0m \u001b[0mparams\u001b[0m\u001b[0;34m,\u001b[0m \u001b[0mX\u001b[0m\u001b[0;34m,\u001b[0m \u001b[0mt\u001b[0m \u001b[0;34m)\u001b[0m\u001b[0;34m:\u001b[0m\u001b[0;34m\u001b[0m\u001b[0m\n\u001b[0;32m--> 183\u001b[0;31m         \u001b[0mgrad\u001b[0m \u001b[0;34m=\u001b[0m \u001b[0mself\u001b[0m\u001b[0;34m.\u001b[0m\u001b[0mgp\u001b[0m\u001b[0;34m.\u001b[0m\u001b[0mget_grad_marlik\u001b[0m\u001b[0;34m(\u001b[0m \u001b[0mparams\u001b[0m\u001b[0;34m,\u001b[0m \u001b[0mX\u001b[0m\u001b[0;34m,\u001b[0m \u001b[0mt\u001b[0m \u001b[0;34m)\u001b[0m\u001b[0;34m\u001b[0m\u001b[0m\n\u001b[0m\u001b[1;32m    184\u001b[0m         \u001b[0mself\u001b[0m\u001b[0;34m.\u001b[0m\u001b[0mm\u001b[0m \u001b[0;34m=\u001b[0m \u001b[0mself\u001b[0m\u001b[0;34m.\u001b[0m\u001b[0mm\u001b[0m \u001b[0;34m*\u001b[0m \u001b[0mself\u001b[0m\u001b[0;34m.\u001b[0m\u001b[0mbeta\u001b[0m \u001b[0;34m+\u001b[0m \u001b[0mgrad\u001b[0m \u001b[0;34m*\u001b[0m \u001b[0;34m(\u001b[0m \u001b[0;36m1\u001b[0m \u001b[0;34m-\u001b[0m \u001b[0mself\u001b[0m\u001b[0;34m.\u001b[0m\u001b[0mbeta\u001b[0m \u001b[0;34m)\u001b[0m\u001b[0;34m\u001b[0m\u001b[0m\n\u001b[1;32m    185\u001b[0m         \u001b[0mself\u001b[0m\u001b[0;34m.\u001b[0m\u001b[0mv\u001b[0m \u001b[0;34m=\u001b[0m \u001b[0mself\u001b[0m\u001b[0;34m.\u001b[0m\u001b[0mv\u001b[0m \u001b[0;34m*\u001b[0m \u001b[0mself\u001b[0m\u001b[0;34m.\u001b[0m\u001b[0mgamma\u001b[0m \u001b[0;34m+\u001b[0m \u001b[0mgrad\u001b[0m\u001b[0;34m**\u001b[0m\u001b[0;36m2\u001b[0m \u001b[0;34m*\u001b[0m \u001b[0;34m(\u001b[0m \u001b[0;36m1\u001b[0m \u001b[0;34m-\u001b[0m \u001b[0mself\u001b[0m\u001b[0;34m.\u001b[0m\u001b[0mgamma\u001b[0m \u001b[0;34m)\u001b[0m\u001b[0;34m\u001b[0m\u001b[0m\n",
      "\u001b[0;32m/Users/tsuyos-u/.pyenv/versions/2.7.10/lib/python2.7/site-packages/combo/gp/core/model.pyc\u001b[0m in \u001b[0;36mget_grad_marlik\u001b[0;34m(self, params, X, t, N)\u001b[0m\n\u001b[1;32m     73\u001b[0m \u001b[0;34m\u001b[0m\u001b[0m\n\u001b[1;32m     74\u001b[0m         \u001b[0;32mif\u001b[0m \u001b[0mself\u001b[0m\u001b[0;34m.\u001b[0m\u001b[0minf\u001b[0m \u001b[0;32mis\u001b[0m \u001b[0;34m'exact'\u001b[0m\u001b[0;34m:\u001b[0m\u001b[0;34m\u001b[0m\u001b[0m\n\u001b[0;32m---> 75\u001b[0;31m             \u001b[0mgrad_marlik\u001b[0m \u001b[0;34m=\u001b[0m \u001b[0minf\u001b[0m\u001b[0;34m.\u001b[0m\u001b[0mexact\u001b[0m\u001b[0;34m.\u001b[0m\u001b[0mget_grad_marlik\u001b[0m\u001b[0;34m(\u001b[0m \u001b[0mself\u001b[0m\u001b[0;34m,\u001b[0m \u001b[0msubX\u001b[0m\u001b[0;34m,\u001b[0m \u001b[0msubt\u001b[0m\u001b[0;34m,\u001b[0m \u001b[0mparams\u001b[0m \u001b[0;34m=\u001b[0m \u001b[0mparams\u001b[0m \u001b[0;34m)\u001b[0m\u001b[0;34m\u001b[0m\u001b[0m\n\u001b[0m\u001b[1;32m     76\u001b[0m \u001b[0;34m\u001b[0m\u001b[0m\n\u001b[1;32m     77\u001b[0m         \u001b[0;32mreturn\u001b[0m \u001b[0mgrad_marlik\u001b[0m\u001b[0;34m\u001b[0m\u001b[0m\n",
      "\u001b[0;32m/Users/tsuyos-u/.pyenv/versions/2.7.10/lib/python2.7/site-packages/combo/gp/inf/exact.pyc\u001b[0m in \u001b[0;36mget_grad_marlik\u001b[0;34m(gp, X, t, params)\u001b[0m\n\u001b[1;32m     33\u001b[0m     \u001b[0mres\u001b[0m \u001b[0;34m=\u001b[0m \u001b[0mt\u001b[0m \u001b[0;34m-\u001b[0m \u001b[0mfmu\u001b[0m\u001b[0;34m\u001b[0m\u001b[0m\n\u001b[1;32m     34\u001b[0m     \u001b[0malpha\u001b[0m \u001b[0;34m=\u001b[0m \u001b[0mmisc\u001b[0m\u001b[0;34m.\u001b[0m\u001b[0mgauss_elim\u001b[0m\u001b[0;34m(\u001b[0m \u001b[0mL\u001b[0m\u001b[0;34m,\u001b[0m \u001b[0mres\u001b[0m \u001b[0;34m)\u001b[0m\u001b[0;34m\u001b[0m\u001b[0m\n\u001b[0;32m---> 35\u001b[0;31m     \u001b[0minvA\u001b[0m \u001b[0;34m=\u001b[0m \u001b[0mscipy\u001b[0m\u001b[0;34m.\u001b[0m\u001b[0mlinalg\u001b[0m\u001b[0;34m.\u001b[0m\u001b[0minv\u001b[0m\u001b[0;34m(\u001b[0m \u001b[0mA\u001b[0m\u001b[0;34m,\u001b[0m \u001b[0mcheck_finite\u001b[0m \u001b[0;34m=\u001b[0m \u001b[0mFalse\u001b[0m\u001b[0;34m)\u001b[0m\u001b[0;34m\u001b[0m\u001b[0m\n\u001b[0m\u001b[1;32m     36\u001b[0m \u001b[0;34m\u001b[0m\u001b[0m\n\u001b[1;32m     37\u001b[0m     \u001b[0mgrad_marlik\u001b[0m \u001b[0;34m=\u001b[0m \u001b[0mnp\u001b[0m\u001b[0;34m.\u001b[0m\u001b[0mzeros\u001b[0m\u001b[0;34m(\u001b[0m \u001b[0mgp\u001b[0m\u001b[0;34m.\u001b[0m\u001b[0mnum_params\u001b[0m \u001b[0;34m)\u001b[0m\u001b[0;34m\u001b[0m\u001b[0m\n",
      "\u001b[0;32m/usr/local/lib/python2.7/site-packages/scipy/linalg/basic.pyc\u001b[0m in \u001b[0;36minv\u001b[0;34m(a, overwrite_a, check_finite)\u001b[0m\n\u001b[1;32m    673\u001b[0m         \u001b[0;31m# more such SEGFAULTs occur.\u001b[0m\u001b[0;34m\u001b[0m\u001b[0;34m\u001b[0m\u001b[0m\n\u001b[1;32m    674\u001b[0m         \u001b[0mlwork\u001b[0m \u001b[0;34m=\u001b[0m \u001b[0mint\u001b[0m\u001b[0;34m(\u001b[0m\u001b[0;36m1.01\u001b[0m \u001b[0;34m*\u001b[0m \u001b[0mlwork\u001b[0m\u001b[0;34m)\u001b[0m\u001b[0;34m\u001b[0m\u001b[0m\n\u001b[0;32m--> 675\u001b[0;31m         \u001b[0minv_a\u001b[0m\u001b[0;34m,\u001b[0m \u001b[0minfo\u001b[0m \u001b[0;34m=\u001b[0m \u001b[0mgetri\u001b[0m\u001b[0;34m(\u001b[0m\u001b[0mlu\u001b[0m\u001b[0;34m,\u001b[0m \u001b[0mpiv\u001b[0m\u001b[0;34m,\u001b[0m \u001b[0mlwork\u001b[0m\u001b[0;34m=\u001b[0m\u001b[0mlwork\u001b[0m\u001b[0;34m,\u001b[0m \u001b[0moverwrite_lu\u001b[0m\u001b[0;34m=\u001b[0m\u001b[0;36m1\u001b[0m\u001b[0;34m)\u001b[0m\u001b[0;34m\u001b[0m\u001b[0m\n\u001b[0m\u001b[1;32m    676\u001b[0m     \u001b[0;32mif\u001b[0m \u001b[0minfo\u001b[0m \u001b[0;34m>\u001b[0m \u001b[0;36m0\u001b[0m\u001b[0;34m:\u001b[0m\u001b[0;34m\u001b[0m\u001b[0m\n\u001b[1;32m    677\u001b[0m         \u001b[0;32mraise\u001b[0m \u001b[0mLinAlgError\u001b[0m\u001b[0;34m(\u001b[0m\u001b[0;34m\"singular matrix\"\u001b[0m\u001b[0;34m)\u001b[0m\u001b[0;34m\u001b[0m\u001b[0m\n",
      "\u001b[0;31mKeyboardInterrupt\u001b[0m: "
     ]
    }
   ],
   "source": [
    "# design of policy\n",
    "\n",
    "# Declaring the bayesian policy is performed by \n",
    "search = combo.search.bayes_policy( simulator(), X, config)\n",
    "\n",
    "# if you want to use the random policy as baseline, define in the same manner: \n",
    "#search = combo.search.random_policy(simulator(), X, config)\n",
    "\n",
    "# set the seed parameter \n",
    "search.set_seed( 0 )\n",
    "\n",
    "# Execute the bayes search.  \n",
    "# The file_name determines the name of output file which is generated after the search process. \n",
    "# If not defining, the file_name automatically become 'bayes_search_00x.dump', where x is the seed.  \n",
    "search.run( gp, file_name='TS' )\n",
    "\n",
    "# If you already have the training data ( train_X, train_t ), you can use it \n",
    "# search.run( gp , train_X = train_X, train_t = train_t )"
   ]
  },
  {
   "cell_type": "code",
   "execution_count": null,
   "metadata": {
    "collapsed": false
   },
   "outputs": [],
   "source": [
    "# The result of searching is summarized in the class search.res\n",
    "# res.fx: observed negative energy at each step\n",
    "# res.max_fx: the current maximum value of the negative energy that has been obserbed until each step\n",
    "# res.config: the configure files when search was performed\n",
    "plt.plot(search.res.max_fx)"
   ]
  },
  {
   "cell_type": "code",
   "execution_count": null,
   "metadata": {
    "collapsed": false
   },
   "outputs": [],
   "source": [
    "# load \n",
    "with open('res/TS.dump') as f:\n",
    "        res =pickle.load(f)"
   ]
  },
  {
   "cell_type": "code",
   "execution_count": null,
   "metadata": {
    "collapsed": false
   },
   "outputs": [],
   "source": [
    "print res.fx\n",
    "print res.max_fx"
   ]
  },
  {
   "cell_type": "code",
   "execution_count": null,
   "metadata": {
    "collapsed": true
   },
   "outputs": [],
   "source": []
  }
 ],
 "metadata": {
  "kernelspec": {
   "display_name": "Python 2",
   "language": "python",
   "name": "python2"
  },
  "language_info": {
   "codemirror_mode": {
    "name": "ipython",
    "version": 2
   },
   "file_extension": ".py",
   "mimetype": "text/x-python",
   "name": "python",
   "nbconvert_exporter": "python",
   "pygments_lexer": "ipython2",
   "version": "2.7.10"
  }
 },
 "nbformat": 4,
 "nbformat_minor": 0
}
