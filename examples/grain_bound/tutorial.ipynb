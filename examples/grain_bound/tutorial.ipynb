{
 "cells": [
  {
   "cell_type": "code",
   "execution_count": 23,
   "metadata": {
    "collapsed": false
   },
   "outputs": [],
   "source": [
    "import numpy as np\n",
    "import scipy\n",
    "import combo\n",
    "import os\n",
    "import urllib"
   ]
  },
  {
   "cell_type": "code",
   "execution_count": 20,
   "metadata": {
    "collapsed": true
   },
   "outputs": [],
   "source": [
    "def load_data():\n",
    "    ''' Load '''\n",
    "    download_data()\n",
    "    A =  np.asarray(np.loadtxt('data/s5-210.csv',skiprows=1,delimiter=','))\n",
    "    X = A[:,0:3]\n",
    "    t  = -A[:,3]\n",
    "    return X, t"
   ]
  },
  {
   "cell_type": "code",
   "execution_count": 19,
   "metadata": {
    "collapsed": true
   },
   "outputs": [],
   "source": [
    "def download_data():\n",
    "    ''' Download test data  '''\n",
    "    if not os.path.exists('data/s5-210.csv'):\n",
    "        if not os.path.exists('data'):\n",
    "            os.mkdir('data')\n",
    "        print('Downloading...')\n",
    "        urllib.urlretrieve('http://www.tsudalab.org/files/s5-210.csv', 'data/s5-210.csv')\n",
    "        print('Done')"
   ]
  },
  {
   "cell_type": "code",
   "execution_count": 27,
   "metadata": {
    "collapsed": false
   },
   "outputs": [],
   "source": [
    "# Load data for the grain boundary\n",
    "X, t = load_data()\n",
    "\n",
    "#  Centering the matrix whose the mean and standard deviation are 0 and 1\n",
    "X = combo.misc.centering(X)"
   ]
  },
  {
   "cell_type": "code",
   "execution_count": 34,
   "metadata": {
    "collapsed": false
   },
   "outputs": [],
   "source": [
    "# Define the class for physical simulator \n",
    "class simulator:\n",
    "    def __init__( self ):\n",
    "        _, self.t = load_data()\n",
    "    \n",
    "    def __call__( self, action ):\n",
    "        return self.t[action]"
   ]
  },
  {
   "cell_type": "code",
   "execution_count": 36,
   "metadata": {
    "collapsed": true
   },
   "outputs": [],
   "source": [
    "simu = simulator()"
   ]
  },
  {
   "cell_type": "code",
   "execution_count": 43,
   "metadata": {
    "collapsed": false
   },
   "outputs": [],
   "source": [
    "# Define the Gaussian Process\n",
    "cov = combo.gp.cov.gauss(X.shape[0])\n",
    "mean = combo.gp.mean.const()\n",
    "lik = combo.gp.lik.gauss()\n",
    "gp = combo.gp.model(lik=lik, mean = mean, cov = cov)"
   ]
  },
  {
   "cell_type": "code",
   "execution_count": 45,
   "metadata": {
    "collapsed": true
   },
   "outputs": [],
   "source": [
    "# set the configure for searching \n",
    "config = combo.misc.set_config()\n",
    "config.load('config.ini')"
   ]
  },
  {
   "cell_type": "code",
   "execution_count": null,
   "metadata": {
    "collapsed": false
   },
   "outputs": [
    {
     "name": "stdout",
     "output_type": "stream",
     "text": [
      "start the random search .....\n",
      "\n",
      "001-th step: f(x) = -1.037109, max_f(x) = -1.037109 \n",
      "\n",
      "002-th step: f(x) = -1.040397, max_f(x) = -1.037109 \n",
      "\n",
      "003-th step: f(x) = -0.995182, max_f(x) = -0.995182 \n",
      "\n",
      "004-th step: f(x) = -1.120972, max_f(x) = -0.995182 \n",
      "\n",
      "005-th step: f(x) = -1.092801, max_f(x) = -0.995182 \n",
      "\n",
      "006-th step: f(x) = -1.104426, max_f(x) = -0.995182 \n",
      "\n",
      "007-th step: f(x) = -1.082187, max_f(x) = -0.995182 \n",
      "\n",
      "008-th step: f(x) = -1.145944, max_f(x) = -0.995182 \n",
      "\n",
      "009-th step: f(x) = -1.069718, max_f(x) = -0.995182 \n",
      "\n",
      "010-th step: f(x) = -1.046275, max_f(x) = -0.995182 \n",
      "\n",
      "011-th step: f(x) = -1.035465, max_f(x) = -0.995182 \n",
      "\n",
      "012-th step: f(x) = -1.095248, max_f(x) = -0.995182 \n",
      "\n",
      "013-th step: f(x) = -1.188696, max_f(x) = -0.995182 \n",
      "\n",
      "014-th step: f(x) = -1.055151, max_f(x) = -0.995182 \n",
      "\n",
      "015-th step: f(x) = -1.122468, max_f(x) = -0.995182 \n",
      "\n",
      "016-th step: f(x) = -0.966407, max_f(x) = -0.966407 \n",
      "\n",
      "017-th step: f(x) = -1.013328, max_f(x) = -0.966407 \n",
      "\n",
      "018-th step: f(x) = -1.137878, max_f(x) = -0.966407 \n",
      "\n",
      "019-th step: f(x) = -1.004440, max_f(x) = -0.966407 \n",
      "\n",
      "020-th step: f(x) = -1.021882, max_f(x) = -0.966407 \n",
      "\n",
      "start the bayes search ....\n",
      "\n",
      "start the initial parameter search ...\n",
      "minimum marginal likelihood =  -12.2855732255\n",
      "finish the initial parameter search \n",
      "\n",
      "satrt the hyper parameter learning ...\n",
      "0 -th epoch marginal likelihood -12.2855732255\n",
      "200 -th epoch marginal likelihood -22.58719831\n",
      "400 -th epoch marginal likelihood -24.8322096177\n",
      "600 -th epoch marginal likelihood -25.6121484978\n",
      "800 -th epoch marginal likelihood -26.0767559912\n",
      "1000 -th epoch marginal likelihood -26.4708348944\n",
      "1200 -th epoch marginal likelihood -26.8367550837\n",
      "1400 -th epoch marginal likelihood -27.1769342781\n",
      "1600 -th epoch marginal likelihood -27.4919194778\n",
      "1800 -th epoch marginal likelihood -27.7845134592\n",
      "2000 -th epoch marginal likelihood -28.0564110077\n",
      "finish the initial parameter search\n",
      "021-th step: f(x) = -0.962638, max_f(x) = -0.962638 \n",
      "\n",
      "022-th step: f(x) = -0.960091, max_f(x) = -0.960091 \n",
      "\n",
      "023-th step: f(x) = -1.060612, max_f(x) = -0.960091 \n",
      "\n",
      "024-th step: f(x) = -0.959066, max_f(x) = -0.959066 \n",
      "\n",
      "025-th step: f(x) = -0.957479, max_f(x) = -0.957479 \n",
      "\n",
      "026-th step: f(x) = -0.965441, max_f(x) = -0.957479 \n",
      "\n",
      "027-th step: f(x) = -0.980908, max_f(x) = -0.957479 \n",
      "\n",
      "028-th step: f(x) = -0.979664, max_f(x) = -0.957479 \n",
      "\n",
      "029-th step: f(x) = -1.016823, max_f(x) = -0.957479 \n",
      "\n",
      "030-th step: f(x) = -0.959748, max_f(x) = -0.957479 \n",
      "\n",
      "031-th step: f(x) = -0.979975, max_f(x) = -0.957479 \n",
      "\n",
      "032-th step: f(x) = -0.971174, max_f(x) = -0.957479 \n",
      "\n",
      "033-th step: f(x) = -0.974583, max_f(x) = -0.957479 \n",
      "\n",
      "034-th step: f(x) = -0.957672, max_f(x) = -0.957479 \n",
      "\n",
      "035-th step: f(x) = -0.957468, max_f(x) = -0.957468 \n",
      "\n",
      "036-th step: f(x) = -0.958246, max_f(x) = -0.957468 \n",
      "\n",
      "037-th step: f(x) = -0.958805, max_f(x) = -0.957468 \n",
      "\n",
      "038-th step: f(x) = -0.974747, max_f(x) = -0.957468 \n",
      "\n",
      "039-th step: f(x) = -0.957652, max_f(x) = -0.957468 \n",
      "\n",
      "040-th step: f(x) = -0.958168, max_f(x) = -0.957468 \n",
      "\n",
      "start the initial parameter search ...\n",
      "minimum marginal likelihood =  -80.2346475724\n",
      "finish the initial parameter search \n",
      "\n",
      "satrt the hyper parameter learning ...\n",
      "0 -th epoch marginal likelihood -80.2346475724\n",
      "200 -th epoch marginal likelihood -87.1657923216\n",
      "400 -th epoch marginal likelihood -88.5634720437\n",
      "600 -th epoch marginal likelihood -89.8235296969\n",
      "800 -th epoch marginal likelihood -90.968648845\n",
      "1000 -th epoch marginal likelihood -92.0012337562\n",
      "1200 -th epoch marginal likelihood -92.9227285924\n",
      "1400 -th epoch marginal likelihood -93.7347163505\n",
      "1600 -th epoch marginal likelihood -94.4397693066\n",
      "1800 -th epoch marginal likelihood -95.0421852378\n",
      "2000 -th epoch marginal likelihood -95.5486371869\n",
      "finish the initial parameter search\n",
      "041-th step: f(x) = -1.111234, max_f(x) = -0.957468 \n",
      "\n",
      "042-th step: f(x) = -1.005292, max_f(x) = -0.957468 \n",
      "\n",
      "043-th step: f(x) = -1.009318, max_f(x) = -0.957468 \n",
      "\n",
      "044-th step: f(x) = -0.985600, max_f(x) = -0.957468 \n",
      "\n",
      "045-th step: f(x) = -0.965264, max_f(x) = -0.957468 \n",
      "\n",
      "046-th step: f(x) = -0.979482, max_f(x) = -0.957468 \n",
      "\n",
      "047-th step: f(x) = -0.976160, max_f(x) = -0.957468 \n",
      "\n",
      "048-th step: f(x) = -0.980879, max_f(x) = -0.957468 \n",
      "\n",
      "049-th step: f(x) = -0.962309, max_f(x) = -0.957468 \n",
      "\n",
      "050-th step: f(x) = -0.965563, max_f(x) = -0.957468 \n",
      "\n",
      "051-th step: f(x) = -1.009257, max_f(x) = -0.957468 \n",
      "\n",
      "052-th step: f(x) = -0.957487, max_f(x) = -0.957468 \n",
      "\n",
      "053-th step: f(x) = -1.031376, max_f(x) = -0.957468 \n",
      "\n",
      "054-th step: f(x) = -0.989029, max_f(x) = -0.957468 \n",
      "\n",
      "055-th step: f(x) = -0.984294, max_f(x) = -0.957468 \n",
      "\n",
      "056-th step: f(x) = -0.998394, max_f(x) = -0.957468 \n",
      "\n",
      "057-th step: f(x) = -0.976563, max_f(x) = -0.957468 \n",
      "\n",
      "058-th step: f(x) = -1.028285, max_f(x) = -0.957468 \n",
      "\n",
      "059-th step: f(x) = -0.975692, max_f(x) = -0.957468 \n",
      "\n",
      "060-th step: f(x) = -0.997465, max_f(x) = -0.957468 \n",
      "\n",
      "start the initial parameter search ...\n",
      "minimum marginal likelihood =  -109.98541752\n",
      "finish the initial parameter search \n",
      "\n",
      "satrt the hyper parameter learning ...\n",
      "0 -th epoch marginal likelihood -109.98541752\n",
      "200"
     ]
    }
   ],
   "source": [
    "simu = simulator()\n",
    "search = combo.search.bayes_policy(simu, X, config)\n",
    "search.set_seed(0)\n",
    "search.run( gp )"
   ]
  },
  {
   "cell_type": "code",
   "execution_count": null,
   "metadata": {
    "collapsed": true
   },
   "outputs": [],
   "source": []
  }
 ],
 "metadata": {
  "kernelspec": {
   "display_name": "Python 2",
   "language": "python",
   "name": "python2"
  },
  "language_info": {
   "codemirror_mode": {
    "name": "ipython",
    "version": 2
   },
   "file_extension": ".py",
   "mimetype": "text/x-python",
   "name": "python",
   "nbconvert_exporter": "python",
   "pygments_lexer": "ipython2",
   "version": "2.7.10"
  }
 },
 "nbformat": 4,
 "nbformat_minor": 0
}
