{
 "cells": [
  {
   "cell_type": "code",
   "execution_count": 17,
   "metadata": {
    "collapsed": false
   },
   "outputs": [],
   "source": [
    "import numpy as np\n",
    "import cPickle as pickle\n",
    "import scipy\n",
    "import combo\n",
    "import os\n",
    "import urllib"
   ]
  },
  {
   "cell_type": "code",
   "execution_count": 2,
   "metadata": {
    "collapsed": true
   },
   "outputs": [],
   "source": [
    "def download():\n",
    "    ''' get the data from the web '''\n",
    "    if not os.path.exists('data/s5-210.csv'):\n",
    "\n",
    "        if not os.path.exists('data'):\n",
    "            os.mkdir('data')\n",
    "            \n",
    "        print('Downloading...')\n",
    "        urllib.urlretrieve('http://www.tsudalab.org/files/s5-210.csv', 'data/s5-210.csv')\n",
    "        print('Done')"
   ]
  },
  {
   "cell_type": "code",
   "execution_count": 3,
   "metadata": {
    "collapsed": true
   },
   "outputs": [],
   "source": [
    "def load_data():\n",
    "    ''' load the data '''\n",
    "    download()\n",
    "    A =  np.asarray( np.loadtxt('data/s5-210.csv',skiprows=1,delimiter=',') )\n",
    "    X = A[:,0:3]\n",
    "    t  = -A[:,3]\n",
    "    return X, t"
   ]
  },
  {
   "cell_type": "markdown",
   "metadata": {},
   "source": [
    "## Load the data\n",
    "* X is the set of search candidates. \n",
    "* t is the corresponding negative energy of search candidates"
   ]
  },
  {
   "cell_type": "code",
   "execution_count": 4,
   "metadata": {
    "collapsed": false
   },
   "outputs": [],
   "source": [
    "X, t = load_data()\n",
    "\n",
    "# normalization of X: mean and standard deviation of X are 0 and 1, respectively.\n",
    "X = combo.misc.centering( X )"
   ]
  },
  {
   "cell_type": "markdown",
   "metadata": {},
   "source": [
    "## Class for calling the simulator ( Need to Customize )"
   ]
  },
  {
   "cell_type": "code",
   "execution_count": 5,
   "metadata": {
    "collapsed": false
   },
   "outputs": [],
   "source": [
    "class simulator:\n",
    "    def __init__( self ):\n",
    "        _, self.t = load_data()\n",
    "    \n",
    "    def __call__( self, action ):\n",
    "        return self.t[action]"
   ]
  },
  {
   "cell_type": "markdown",
   "metadata": {},
   "source": [
    "## Define the GPs\n",
    "* covariance of the GP prior\n",
    "* mean of the GP prior \n",
    "* likelihood of the GP"
   ]
  },
  {
   "cell_type": "code",
   "execution_count": 6,
   "metadata": {
    "collapsed": false
   },
   "outputs": [],
   "source": [
    "# define the covariance of the GP prior by the gaussian kernel\n",
    "# if you want to use the ARD,  set ARD to True\n",
    "cov = combo.gp.cov.gauss(X.shape[1], ard = False )\n",
    "#cov = combo.gp.cov.gauss(X.shape[0], ard = True )\n",
    "\n",
    "# define the constant value as the mean of the GP prior\n",
    "mean = combo.gp.mean.const()\n",
    "#mean = combo.gp.mean.zero()\n",
    "\n",
    "# define the isotoropic gaussian distribution as the likelihood \n",
    "lik = combo.gp.lik.gauss()\n",
    "\n",
    "# define the gaussian process \n",
    "gp = combo.gp.model(lik=lik, mean = mean, cov = cov)"
   ]
  },
  {
   "cell_type": "markdown",
   "metadata": {},
   "source": [
    "## Set the configure variable for COMBO"
   ]
  },
  {
   "cell_type": "code",
   "execution_count": 7,
   "metadata": {
    "collapsed": false
   },
   "outputs": [],
   "source": [
    "# set the configure for searching \n",
    "config = combo.misc.set_config()\n",
    "\n",
    "# display the search results or not (default: True)\n",
    "config.search.is_disp = True\n",
    "\n",
    "# score for Bayesian optimization. EI, PI or TS are available. (default:TS)\n",
    "config.search.score = 'TS'\n",
    "\n",
    "#  maximum number of searching (default:100) \n",
    "config.search.max_search = 100\n",
    "\n",
    "#  number of  initial random search (default:20)\n",
    "config.search.num_rand_search = 20\n",
    "\n",
    "# directory name in which search results memorizes (default:res)\n",
    "config.search.dir_name = 'res'\n"
   ]
  },
  {
   "cell_type": "markdown",
   "metadata": {},
   "source": [
    "### Config for prediction"
   ]
  },
  {
   "cell_type": "code",
   "execution_count": 8,
   "metadata": {
    "collapsed": true
   },
   "outputs": [],
   "source": [
    "# use the random feature expansions (False)\n",
    "config.predict.is_rand_expans = True\n",
    "\n",
    "# the number of basis functions\n",
    "config.predict.num_basis = 5000"
   ]
  },
  {
   "cell_type": "markdown",
   "metadata": {},
   "source": [
    " ### Config for learning"
   ]
  },
  {
   "cell_type": "code",
   "execution_count": 9,
   "metadata": {
    "collapsed": false
   },
   "outputs": [],
   "source": [
    "# select the hyper parameter learning method. adam or bfgs are available\n",
    "config.learning.method = 'adam'\n",
    "\n",
    "# flag whether hyper parameter learning method is performed or not\n",
    "config.learning.is_hyparams_learning = True\n",
    "\n",
    "# flag for showing the performance of  (default: False)\n",
    "config.learning.is_disp = False\n",
    "\n",
    "# number of initial hyper parameter search (default: 20)\n",
    "config.learning.num_init_params_search = 20\n",
    "\n",
    "# length of interval between hyper parameter learnings (default:20) \n",
    "config.learning.interval = 20\n",
    "\n",
    "# maximum number of epochs (default:1000) \n",
    "config.learning.max_epoch = 1000\n",
    "\n",
    "# maximum number of epochs in the initial hyper parameters (default:50) \n",
    "config.learning.max_epoch_init_params_search = 50\n",
    "\n",
    "# number of batch size \n",
    "config.learning.batch_size = 64\n",
    "\n",
    "# number of batch size in the evaluation \n",
    "config.learning.eval_size = 5000"
   ]
  },
  {
   "cell_type": "code",
   "execution_count": 10,
   "metadata": {
    "collapsed": true
   },
   "outputs": [],
   "source": [
    "# configure enables to load from the files. \n",
    "# config.load('config.ini')"
   ]
  },
  {
   "cell_type": "code",
   "execution_count": 12,
   "metadata": {
    "collapsed": false
   },
   "outputs": [
    {
     "name": "stdout",
     "output_type": "stream",
     "text": [
      "start the random search .....\n",
      "\n",
      "001-th step: f(x) = -1.037109, max_f(x) = -1.037109 \n",
      "\n",
      "002-th step: f(x) = -1.040397, max_f(x) = -1.037109 \n",
      "\n",
      "003-th step: f(x) = -0.995182, max_f(x) = -0.995182 \n",
      "\n",
      "004-th step: f(x) = -1.120972, max_f(x) = -0.995182 \n",
      "\n",
      "005-th step: f(x) = -1.092801, max_f(x) = -0.995182 \n",
      "\n",
      "006-th step: f(x) = -1.104426, max_f(x) = -0.995182 \n",
      "\n",
      "007-th step: f(x) = -1.082187, max_f(x) = -0.995182 \n",
      "\n",
      "008-th step: f(x) = -1.145944, max_f(x) = -0.995182 \n",
      "\n",
      "009-th step: f(x) = -1.069718, max_f(x) = -0.995182 \n",
      "\n",
      "010-th step: f(x) = -1.046275, max_f(x) = -0.995182 \n",
      "\n",
      "011-th step: f(x) = -1.035465, max_f(x) = -0.995182 \n",
      "\n",
      "012-th step: f(x) = -1.095248, max_f(x) = -0.995182 \n",
      "\n",
      "013-th step: f(x) = -1.188696, max_f(x) = -0.995182 \n",
      "\n",
      "014-th step: f(x) = -1.055151, max_f(x) = -0.995182 \n",
      "\n",
      "015-th step: f(x) = -1.122468, max_f(x) = -0.995182 \n",
      "\n",
      "016-th step: f(x) = -0.966407, max_f(x) = -0.966407 \n",
      "\n",
      "017-th step: f(x) = -1.013328, max_f(x) = -0.966407 \n",
      "\n",
      "018-th step: f(x) = -1.137878, max_f(x) = -0.966407 \n",
      "\n",
      "019-th step: f(x) = -1.004440, max_f(x) = -0.966407 \n",
      "\n",
      "020-th step: f(x) = -1.021882, max_f(x) = -0.966407 \n",
      "\n",
      "start the bayes search ....\n",
      "\n",
      "start the initial parameter search ...\n",
      "minimum marginal likelihood =  -15.0469599429\n",
      "finish the initial parameter search \n",
      "\n",
      "satrt the hyper parameter learning ...\n",
      "finish the initial parameter search\n",
      "021-th step: f(x) = -1.019266, max_f(x) = -0.966407 \n",
      "\n",
      "022-th step: f(x) = -0.989416, max_f(x) = -0.966407 \n",
      "\n",
      "023-th step: f(x) = -1.077653, max_f(x) = -0.966407 \n",
      "\n",
      "024-th step: f(x) = -1.027200, max_f(x) = -0.966407 \n",
      "\n",
      "025-th step: f(x) = -0.964433, max_f(x) = -0.964433 \n",
      "\n",
      "026-th step: f(x) = -0.990791, max_f(x) = -0.964433 \n",
      "\n",
      "027-th step: f(x) = -0.974504, max_f(x) = -0.964433 \n",
      "\n",
      "028-th step: f(x) = -1.190978, max_f(x) = -0.964433 \n",
      "\n",
      "029-th step: f(x) = -1.122204, max_f(x) = -0.964433 \n",
      "\n",
      "030-th step: f(x) = -1.064162, max_f(x) = -0.964433 \n",
      "\n",
      "031-th step: f(x) = -1.009373, max_f(x) = -0.964433 \n",
      "\n",
      "032-th step: f(x) = -0.967977, max_f(x) = -0.964433 \n",
      "\n",
      "033-th step: f(x) = -1.087368, max_f(x) = -0.964433 \n",
      "\n",
      "034-th step: f(x) = -1.002629, max_f(x) = -0.964433 \n",
      "\n",
      "035-th step: f(x) = -1.122055, max_f(x) = -0.964433 \n",
      "\n",
      "036-th step: f(x) = -0.977474, max_f(x) = -0.964433 \n",
      "\n",
      "037-th step: f(x) = -0.986841, max_f(x) = -0.964433 \n",
      "\n",
      "038-th step: f(x) = -0.992205, max_f(x) = -0.964433 \n",
      "\n",
      "039-th step: f(x) = -0.971728, max_f(x) = -0.964433 \n",
      "\n",
      "040-th step: f(x) = -0.971324, max_f(x) = -0.964433 \n",
      "\n",
      "041-th step: f(x) = -2.832830, max_f(x) = -0.964433 \n",
      "\n",
      "start the initial parameter search ...\n",
      "minimum marginal likelihood =  295.542276918\n",
      "finish the initial parameter search \n",
      "\n",
      "satrt the hyper parameter learning ...\n",
      "finish the initial parameter search\n",
      "042-th step: f(x) = -1.077801, max_f(x) = -0.964433 \n",
      "\n",
      "043-th step: f(x) = -1.024627, max_f(x) = -0.964433 \n",
      "\n",
      "044-th step: f(x) = -1.069894, max_f(x) = -0.964433 \n",
      "\n",
      "045-th step: f(x) = -0.992818, max_f(x) = -0.964433 \n",
      "\n",
      "046-th step: f(x) = -1.117333, max_f(x) = -0.964433 \n",
      "\n",
      "047-th step: f(x) = -1.197391, max_f(x) = -0.964433 \n",
      "\n",
      "048-th step: f(x) = -1.052570, max_f(x) = -0.964433 \n",
      "\n",
      "049-th step: f(x) = -1.033086, max_f(x) = -0.964433 \n",
      "\n",
      "050-th step: f(x) = -0.979102, max_f(x) = -0.964433 \n",
      "\n",
      "051-th step: f(x) = -1.011291, max_f(x) = -0.964433 \n",
      "\n",
      "052-th step: f(x) = -1.059319, max_f(x) = -0.964433 \n",
      "\n",
      "053-th step: f(x) = -0.993498, max_f(x) = -0.964433 \n",
      "\n",
      "054-th step: f(x) = -1.023215, max_f(x) = -0.964433 \n",
      "\n",
      "055-th step: f(x) = -1.033457, max_f(x) = -0.964433 \n",
      "\n",
      "056-th step: f(x) = -1.078954, max_f(x) = -0.964433 \n",
      "\n",
      "057-th step: f(x) = -1.062851, max_f(x) = -0.964433 \n",
      "\n",
      "058-th step: f(x) = -1.001989, max_f(x) = -0.964433 \n",
      "\n",
      "059-th step: f(x) = -1.059861, max_f(x) = -0.964433 \n",
      "\n",
      "060-th step: f(x) = -1.043443, max_f(x) = -0.964433 \n",
      "\n",
      "061-th step: f(x) = -1.124301, max_f(x) = -0.964433 \n",
      "\n",
      "start the initial parameter search ...\n",
      "minimum marginal likelihood =  605.782282435\n",
      "finish the initial parameter search \n",
      "\n",
      "satrt the hyper parameter learning ...\n",
      "finish the initial parameter search\n",
      "062-th step: f(x) = -1.237137, max_f(x) = -0.964433 \n",
      "\n",
      "063-th step: f(x) = -1.189012, max_f(x) = -0.964433 \n",
      "\n",
      "064-th step: f(x) = -0.991675, max_f(x) = -0.964433 \n",
      "\n",
      "065-th step: f(x) = -1.016475, max_f(x) = -0.964433 \n",
      "\n",
      "066-th step: f(x) = -1.029962, max_f(x) = -0.964433 \n",
      "\n",
      "067-th step: f(x) = -0.988849, max_f(x) = -0.964433 \n",
      "\n",
      "068-th step: f(x) = -1.006161, max_f(x) = -0.964433 \n",
      "\n",
      "069-th step: f(x) = -1.007208, max_f(x) = -0.964433 \n",
      "\n",
      "070-th step: f(x) = -1.049169, max_f(x) = -0.964433 \n",
      "\n",
      "071-th step: f(x) = -1.057612, max_f(x) = -0.964433 \n",
      "\n",
      "072-th step: f(x) = -1.167270, max_f(x) = -0.964433 \n",
      "\n",
      "073-th step: f(x) = -1.022711, max_f(x) = -0.964433 \n",
      "\n",
      "074-th step: f(x) = -0.972417, max_f(x) = -0.964433 \n",
      "\n",
      "075-th step: f(x) = -0.990441, max_f(x) = -0.964433 \n",
      "\n",
      "076-th step: f(x) = -0.983338, max_f(x) = -0.964433 \n",
      "\n",
      "077-th step: f(x) = -1.083840, max_f(x) = -0.964433 \n",
      "\n",
      "078-th step: f(x) = -1.196351, max_f(x) = -0.964433 \n",
      "\n",
      "079-th step: f(x) = -1.124811, max_f(x) = -0.964433 \n",
      "\n",
      "080-th step: f(x) = -1.014121, max_f(x) = -0.964433 \n",
      "\n",
      "081-th step: f(x) = -0.957468, max_f(x) = -0.957468 \n",
      "\n",
      "start the initial parameter search ...\n",
      "minimum marginal likelihood =  832.811603712\n",
      "finish the initial parameter search \n",
      "\n",
      "satrt the hyper parameter learning ...\n",
      "finish the initial parameter search\n",
      "082-th step: f(x) = -1.046654, max_f(x) = -0.957468 \n",
      "\n",
      "083-th step: f(x) = -1.095354, max_f(x) = -0.957468 \n",
      "\n",
      "084-th step: f(x) = -0.995930, max_f(x) = -0.957468 \n",
      "\n",
      "085-th step: f(x) = -1.071094, max_f(x) = -0.957468 \n",
      "\n",
      "086-th step: f(x) = -2.544162, max_f(x) = -0.957468 \n",
      "\n",
      "087-th step: f(x) = -1.121756, max_f(x) = -0.957468 \n",
      "\n",
      "088-th step: f(x) = -1.022228, max_f(x) = -0.957468 \n",
      "\n",
      "089-th step: f(x) = -1.059146, max_f(x) = -0.957468 \n",
      "\n",
      "090-th step: f(x) = -1.149830, max_f(x) = -0.957468 \n",
      "\n",
      "091-th step: f(x) = -1.081558, max_f(x) = -0.957468 \n",
      "\n",
      "092-th step: f(x) = -0.976440, max_f(x) = -0.957468 \n",
      "\n",
      "093-th step: f(x) = -1.019613, max_f(x) = -0.957468 \n",
      "\n",
      "094-th step: f(x) = -1.304536, max_f(x) = -0.957468 \n",
      "\n",
      "095-th step: f(x) = -0.964068, max_f(x) = -0.957468 \n",
      "\n",
      "096-th step: f(x) = -0.996640, max_f(x) = -0.957468 \n",
      "\n",
      "097-th step: f(x) = -1.130402, max_f(x) = -0.957468 \n",
      "\n",
      "098-th step: f(x) = -1.026184, max_f(x) = -0.957468 \n",
      "\n",
      "099-th step: f(x) = -1.114942, max_f(x) = -0.957468 \n",
      "\n",
      "100-th step: f(x) = -1.009376, max_f(x) = -0.957468 \n",
      "\n"
     ]
    }
   ],
   "source": [
    "# define the search \n",
    "search = combo.search.bayes_policy( simulator(), X, config)\n",
    "\n",
    "# set the seed parameter \n",
    "search.set_seed(0)\n",
    "\n",
    "# execute the bayesian search\n",
    "search.run( gp )"
   ]
  },
  {
   "cell_type": "code",
   "execution_count": 16,
   "metadata": {
    "collapsed": false
   },
   "outputs": [
    {
     "data": {
      "text/plain": [
       "array([-1.03710867, -1.03710867, -0.99518235, -0.99518235, -0.99518235,\n",
       "       -0.99518235, -0.99518235, -0.99518235, -0.99518235, -0.99518235,\n",
       "       -0.99518235, -0.99518235, -0.99518235, -0.99518235, -0.99518235,\n",
       "       -0.96640706, -0.96640706, -0.96640706, -0.96640706, -0.96640706,\n",
       "       -0.96640706, -0.96640706, -0.96640706, -0.96640706, -0.96443303,\n",
       "       -0.96443303, -0.96443303, -0.96443303, -0.96443303, -0.96443303,\n",
       "       -0.96443303, -0.96443303, -0.96443303, -0.96443303, -0.96443303,\n",
       "       -0.96443303, -0.96443303, -0.96443303, -0.96443303, -0.96443303,\n",
       "       -0.96443303, -0.96443303, -0.96443303, -0.96443303, -0.96443303,\n",
       "       -0.96443303, -0.96443303, -0.96443303, -0.96443303, -0.96443303,\n",
       "       -0.96443303, -0.96443303, -0.96443303, -0.96443303, -0.96443303,\n",
       "       -0.96443303, -0.96443303, -0.96443303, -0.96443303, -0.96443303,\n",
       "       -0.96443303, -0.96443303, -0.96443303, -0.96443303, -0.96443303,\n",
       "       -0.96443303, -0.96443303, -0.96443303, -0.96443303, -0.96443303,\n",
       "       -0.96443303, -0.96443303, -0.96443303, -0.96443303, -0.96443303,\n",
       "       -0.96443303, -0.96443303, -0.96443303, -0.96443303, -0.96443303,\n",
       "       -0.95746763, -0.95746763, -0.95746763, -0.95746763, -0.95746763,\n",
       "       -0.95746763, -0.95746763, -0.95746763, -0.95746763, -0.95746763,\n",
       "       -0.95746763, -0.95746763, -0.95746763, -0.95746763, -0.95746763,\n",
       "       -0.95746763, -0.95746763, -0.95746763, -0.95746763, -0.95746763])"
      ]
     },
     "execution_count": 16,
     "metadata": {},
     "output_type": "execute_result"
    }
   ],
   "source": [
    "print search.res.fx\n",
    "print search.res.max_fx"
   ]
  },
  {
   "cell_type": "code",
   "execution_count": 19,
   "metadata": {
    "collapsed": false
   },
   "outputs": [],
   "source": [
    "with open('res/bayes_search_000.dump') as f:\n",
    "        res =pickle.load(f)"
   ]
  },
  {
   "cell_type": "code",
   "execution_count": 21,
   "metadata": {
    "collapsed": false
   },
   "outputs": [
    {
     "name": "stdout",
     "output_type": "stream",
     "text": [
      "[-1.03710867 -1.04039693 -0.99518235 -1.1209724  -1.09280121 -1.10442594\n",
      " -1.08218651 -1.14594404 -1.06971803 -1.04627468 -1.03546497 -1.09524828\n",
      " -1.18869562 -1.05515129 -1.12246828 -0.96640706 -1.01332817 -1.13787848\n",
      " -1.00444047 -1.02188212 -1.01926619 -0.98941604 -1.07765283 -1.02720013\n",
      " -0.96443303 -0.99079109 -0.97450361 -1.19097753 -1.12220418 -1.0641618\n",
      " -1.00937328 -0.96797742 -1.08736807 -1.00262876 -1.12205494 -0.97747376\n",
      " -0.98684104 -0.9922051  -0.97172848 -0.97132367 -2.83283038 -1.07780122\n",
      " -1.02462712 -1.06989372 -0.99281772 -1.11733278 -1.19739143 -1.05256976\n",
      " -1.03308556 -0.97910239 -1.01129074 -1.05931854 -0.99349771 -1.02321482\n",
      " -1.03345711 -1.07895426 -1.06285071 -1.00198913 -1.05986066 -1.04344298\n",
      " -1.12430131 -1.23713705 -1.18901231 -0.99167549 -1.01647514 -1.02996162\n",
      " -0.9888489  -1.00616064 -1.00720792 -1.04916921 -1.05761173 -1.16726951\n",
      " -1.02271108 -0.97241729 -0.99044058 -0.98333787 -1.08383959 -1.19635069\n",
      " -1.12481102 -1.0141213  -0.95746763 -1.04665391 -1.09535375 -0.99592972\n",
      " -1.07109423 -2.54416154 -1.12175616 -1.0222278  -1.0591457  -1.14983013\n",
      " -1.08155797 -0.97643955 -1.01961301 -1.30453619 -0.9640683  -0.99663985\n",
      " -1.13040222 -1.0261844  -1.11494228 -1.00937583]\n",
      "[-1.03710867 -1.03710867 -0.99518235 -0.99518235 -0.99518235 -0.99518235\n",
      " -0.99518235 -0.99518235 -0.99518235 -0.99518235 -0.99518235 -0.99518235\n",
      " -0.99518235 -0.99518235 -0.99518235 -0.96640706 -0.96640706 -0.96640706\n",
      " -0.96640706 -0.96640706 -0.96640706 -0.96640706 -0.96640706 -0.96640706\n",
      " -0.96443303 -0.96443303 -0.96443303 -0.96443303 -0.96443303 -0.96443303\n",
      " -0.96443303 -0.96443303 -0.96443303 -0.96443303 -0.96443303 -0.96443303\n",
      " -0.96443303 -0.96443303 -0.96443303 -0.96443303 -0.96443303 -0.96443303\n",
      " -0.96443303 -0.96443303 -0.96443303 -0.96443303 -0.96443303 -0.96443303\n",
      " -0.96443303 -0.96443303 -0.96443303 -0.96443303 -0.96443303 -0.96443303\n",
      " -0.96443303 -0.96443303 -0.96443303 -0.96443303 -0.96443303 -0.96443303\n",
      " -0.96443303 -0.96443303 -0.96443303 -0.96443303 -0.96443303 -0.96443303\n",
      " -0.96443303 -0.96443303 -0.96443303 -0.96443303 -0.96443303 -0.96443303\n",
      " -0.96443303 -0.96443303 -0.96443303 -0.96443303 -0.96443303 -0.96443303\n",
      " -0.96443303 -0.96443303 -0.95746763 -0.95746763 -0.95746763 -0.95746763\n",
      " -0.95746763 -0.95746763 -0.95746763 -0.95746763 -0.95746763 -0.95746763\n",
      " -0.95746763 -0.95746763 -0.95746763 -0.95746763 -0.95746763 -0.95746763\n",
      " -0.95746763 -0.95746763 -0.95746763 -0.95746763]\n"
     ]
    }
   ],
   "source": [
    "print res.fx\n",
    "print res.max_fx"
   ]
  },
  {
   "cell_type": "code",
   "execution_count": null,
   "metadata": {
    "collapsed": true
   },
   "outputs": [],
   "source": []
  }
 ],
 "metadata": {
  "kernelspec": {
   "display_name": "Python 2",
   "language": "python",
   "name": "python2"
  },
  "language_info": {
   "codemirror_mode": {
    "name": "ipython",
    "version": 2
   },
   "file_extension": ".py",
   "mimetype": "text/x-python",
   "name": "python",
   "nbconvert_exporter": "python",
   "pygments_lexer": "ipython2",
   "version": "2.7.10"
  }
 },
 "nbformat": 4,
 "nbformat_minor": 0
}
